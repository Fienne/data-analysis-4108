{
 "cells": [
  {
   "cell_type": "code",
   "execution_count": 16,
   "id": "75531c4c",
   "metadata": {},
   "outputs": [],
   "source": [
    "import math"
   ]
  },
  {
   "cell_type": "code",
   "execution_count": 15,
   "id": "c9d75173-4120-4392-8e6b-b402fdc2b6d1",
   "metadata": {},
   "outputs": [],
   "source": [
    "def k_round(num):\n",
    "    if(round(num%1,1) < 0.5):\n",
    "        return math.floor(num)\n",
    "    else:\n",
    "        return math.ceil(num)"
   ]
  },
  {
   "cell_type": "code",
   "execution_count": 63,
   "id": "5200bbb4-5abc-4e3a-afad-6e67fc864728",
   "metadata": {},
   "outputs": [],
   "source": [
    "def quartiles(data, pos):\n",
    "    return tiles(data, pos, 4)\n",
    "\n",
    "def quintiles(data, pos):\n",
    "    return tiles(data, pos, 5)\n",
    "\n",
    "def deciles(data, pos):\n",
    "    return tiles(data, pos, 10)\n",
    "\n",
    "def percentiles(data, pos):\n",
    "    return tiles(data, pos, 100)\n",
    "\n",
    "\n",
    "def tiles(data, pos, tile):\n",
    "    '''\n",
    "    General formula for calculating *tiles.\n",
    "    data: the dataset required as a list\n",
    "    pos: the positions of the tiles we need\n",
    "    tile\n",
    "    '''\n",
    "    n = len(data)\n",
    "    pos = list(set(pos))\n",
    "    loc = [[l, ((n+1)*(l/tile))] for l in pos if l > 0 and l < tile]\n",
    "    tiles = {l[0]:0 for l in loc}\n",
    "    for l in loc:\n",
    "        if l[1] % 1 == 0:\n",
    "            tiles[l[0]] = data[int(l[1])]\n",
    "        else:\n",
    "            lb = math.floor(l[1])\n",
    "            hb = math.ceil(l[1])\n",
    "            dec = round(l[1] % 1, 1)\n",
    "            p = lb + ((hb-lb)*dec)\n",
    "            tiles[l[0]] = p\n",
    "    return tiles"
   ]
  },
  {
   "cell_type": "code",
   "execution_count": 65,
   "id": "3380a6c2-1500-4e48-aeab-46efc3c67f79",
   "metadata": {},
   "outputs": [
    {
     "name": "stdout",
     "output_type": "stream",
     "text": [
      "{1: 0, 2: 0, 3: 0}\n"
     ]
    },
    {
     "data": {
      "text/plain": [
       "{1: 7.8, 2: 15.5, 3: 23.2}"
      ]
     },
     "execution_count": 65,
     "metadata": {},
     "output_type": "execute_result"
    }
   ],
   "source": []
  },
  {
   "cell_type": "code",
   "execution_count": 40,
   "id": "e0c5be1e",
   "metadata": {},
   "outputs": [],
   "source": [
    "dat = [43,47,30,25,15,51,17,21,37,33,44,56,40,49,22,36,44,33,17,35,58,51,35,44,40,31,41,55,50,16]\n",
    "dat2 = [40,46,28,32,37,42,50,31,48,45,32,38,27,33,40,35,25,42,38,41]"
   ]
  },
  {
   "cell_type": "code",
   "execution_count": null,
   "id": "c4dc2ad0",
   "metadata": {},
   "outputs": [],
   "source": []
  },
  {
   "cell_type": "code",
   "execution_count": null,
   "id": "6dd54946",
   "metadata": {},
   "outputs": [],
   "source": []
  },
  {
   "cell_type": "code",
   "execution_count": null,
   "id": "7efd0c69",
   "metadata": {},
   "outputs": [],
   "source": []
  }
 ],
 "metadata": {
  "kernelspec": {
   "display_name": "Python 3 (ipykernel)",
   "language": "python",
   "name": "python3"
  },
  "language_info": {
   "codemirror_mode": {
    "name": "ipython",
    "version": 3
   },
   "file_extension": ".py",
   "mimetype": "text/x-python",
   "name": "python",
   "nbconvert_exporter": "python",
   "pygments_lexer": "ipython3",
   "version": "3.9.7"
  }
 },
 "nbformat": 4,
 "nbformat_minor": 5
}
