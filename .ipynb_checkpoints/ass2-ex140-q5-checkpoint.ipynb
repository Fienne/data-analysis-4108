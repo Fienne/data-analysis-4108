{
 "cells": [
  {
   "cell_type": "code",
   "execution_count": 19,
   "id": "75531c4c",
   "metadata": {},
   "outputs": [],
   "source": [
    "import math"
   ]
  },
  {
   "cell_type": "code",
   "execution_count": 32,
   "id": "d85bf9cc",
   "metadata": {},
   "outputs": [],
   "source": [
    "def deciles(data):\n",
    "    data = sorted(data)\n",
    "    n = len(data)\n",
    "    di_pos = [(n+1)*(i/10) for i in range(9)]\n",
    "    di = []\n",
    "    print(di_pos)\n",
    "    for pos in di_pos:\n",
    "        lower = data[math.floor(pos)]\n",
    "        higher = data[math.ceil(pos)]\n",
    "        \n",
    "        prec = round(pos%1, 1)\n",
    "        di.append(lower + (prec * (higher-lower)))\n",
    "    \n",
    "    return (di, di_pos)\n",
    "\n",
    "def decile_groups(data):\n",
    "    data = sorted(data)\n",
    "    di_pos = [int(round(p)) for p in deciles(data)[1]]\n",
    "    \n",
    "    groups = []\n",
    "    i = 0\n",
    "    k = len(di_pos)\n",
    "    di_pos.append(-2)\n",
    "    print(di_pos)\n",
    "    while i < k:\n",
    "        di_group = data[di_pos[i]:di_pos[i+1]]\n",
    "        groups.append(di_group)\n",
    "        i += 1\n",
    "    print(data)\n",
    "    return groups\n",
    "        "
   ]
  },
  {
   "cell_type": "code",
   "execution_count": 21,
   "id": "fd0bfebc",
   "metadata": {},
   "outputs": [],
   "source": [
    "def median(data):\n",
    "    data = sorted(data)\n",
    "    n = len(data)\n",
    "    mid = 0\n",
    "    if n % 2 == 0:\n",
    "        mid = (data[int((n-1)/2)] + data[int((n+1)/2)])/2\n",
    "    else:\n",
    "        mid = data[int((n-1)/2)]\n",
    "    return mid"
   ]
  },
  {
   "cell_type": "code",
   "execution_count": 22,
   "id": "268f0077",
   "metadata": {},
   "outputs": [],
   "source": [
    "def quartile_groups(data):\n",
    "    data = sorted(data)\n",
    "    n = len(data)\n",
    "    q1 = data[int((n+1)/4)]\n",
    "    q2 = median(data)\n",
    "    q3 = data[int(3*(n+1)/4)]\n",
    "    return (q1,q2,q3)\n",
    "    "
   ]
  },
  {
   "cell_type": "code",
   "execution_count": 23,
   "id": "e0c5be1e",
   "metadata": {},
   "outputs": [],
   "source": [
    "dat = [27,37,40,28,23,30,35,24,30,32,31,2,8,98, 3]"
   ]
  },
  {
   "cell_type": "code",
   "execution_count": 33,
   "id": "c4dc2ad0",
   "metadata": {},
   "outputs": [
    {
     "name": "stdout",
     "output_type": "stream",
     "text": [
      "[0.0, 1.6, 3.2, 4.8, 6.4, 8.0, 9.6, 11.2, 12.8]\n",
      "[0, 2, 3, 5, 6, 8, 10, 11, 13, -2]\n",
      "[2, 3, 8, 23, 24, 27, 28, 30, 30, 31, 32, 35, 37, 40, 98]\n"
     ]
    },
    {
     "data": {
      "text/plain": [
       "[[2, 3], [8], [23, 24], [27], [28, 30], [30, 31], [32], [35, 37], []]"
      ]
     },
     "execution_count": 33,
     "metadata": {},
     "output_type": "execute_result"
    }
   ],
   "source": [
    "decile_groups(dat)"
   ]
  },
  {
   "cell_type": "code",
   "execution_count": null,
   "id": "6dd54946",
   "metadata": {},
   "outputs": [],
   "source": []
  }
 ],
 "metadata": {
  "kernelspec": {
   "display_name": "Python 3",
   "language": "python",
   "name": "python3"
  },
  "language_info": {
   "codemirror_mode": {
    "name": "ipython",
    "version": 3
   },
   "file_extension": ".py",
   "mimetype": "text/x-python",
   "name": "python",
   "nbconvert_exporter": "python",
   "pygments_lexer": "ipython3",
   "version": "3.9.2"
  }
 },
 "nbformat": 4,
 "nbformat_minor": 5
}
