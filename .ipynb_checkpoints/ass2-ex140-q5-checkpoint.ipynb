{
 "cells": [
  {
   "cell_type": "markdown",
   "id": "8da46a8c-39f6-49c8-a548-3c1326da932a",
   "metadata": {},
   "source": [
    "# -----------------------------------------------------------------------------------------\n",
    "# Name: ELROY ANKELMBOM KIMBI YONGHABICHIA\n",
    "# RegNo: UBA19E0168\n",
    "## Course: Data Analysis  4108\n",
    "### Level: 400\n",
    "# -----------------------------------------------------------------------------------------\n"
   ]
  },
  {
   "cell_type": "code",
   "execution_count": null,
   "id": "0d1683c6-a99e-44e5-ac9a-3be8e09bb651",
   "metadata": {},
   "outputs": [],
   "source": [
    "import math"
   ]
  },
  {
   "cell_type": "code",
   "execution_count": 15,
   "id": "c9d75173-4120-4392-8e6b-b402fdc2b6d1",
   "metadata": {},
   "outputs": [],
   "source": [
    "def k_round(num):\n",
    "    if(round(num%1,1) < 0.5):\n",
    "        return math.floor(num)\n",
    "    else:\n",
    "        return math.ceil(num)"
   ]
  },
  {
   "cell_type": "code",
   "execution_count": 68,
   "id": "5200bbb4-5abc-4e3a-afad-6e67fc864728",
   "metadata": {},
   "outputs": [],
   "source": [
    "def quartiles(data, pos):\n",
    "    return tiles(data, pos, 4)\n",
    "\n",
    "def quintiles(data, pos):\n",
    "    return tiles(data, pos, 5)\n",
    "\n",
    "def deciles(data, pos):\n",
    "    return tiles(data, pos, 10)\n",
    "\n",
    "def percentiles(data, pos):\n",
    "    return tiles(data, pos, 100)\n",
    "\n",
    "\n",
    "def tiles(data, pos, tile):\n",
    "    '''\n",
    "    General formula for calculating *tiles.\n",
    "    data: the dataset required as a list\n",
    "    pos: the positions of the tiles we need\n",
    "    tile\n",
    "    '''\n",
    "    data = sorted(data)\n",
    "    n = len(data)\n",
    "    pos = list(set(pos))\n",
    "    loc = [[l, ((n+1)*(l/tile))] for l in pos if l > 0 and l < tile]\n",
    "    tiles = {l[0]:0 for l in loc}\n",
    "    for l in loc:\n",
    "        if l[1] % 1 == 0:\n",
    "            tiles[l[0]] = data[int(l[1])]\n",
    "        else:\n",
    "            lb = math.floor(l[1])\n",
    "            hb = math.ceil(l[1])\n",
    "            dec = round(l[1] % 1, 1)\n",
    "            p = lb + ((hb-lb)*dec)\n",
    "            tiles[l[0]] = p\n",
    "    return tiles"
   ]
  },
  {
   "cell_type": "code",
   "execution_count": 223,
   "id": "3380a6c2-1500-4e48-aeab-46efc3c67f79",
   "metadata": {},
   "outputs": [],
   "source": [
    "def tile_group(data, tile):\n",
    "    data = sorted(data)\n",
    "    n = len(data)\n",
    "    nc = n/tile\n",
    "    groups = {}\n",
    "    i = 0\n",
    "    while i < n:\n",
    "        groups[str(i)+'-'+str(i+nc)] = data[int(i):int(i+nc)]\n",
    "        i += nc\n",
    "    return groups\n",
    "\n",
    "\n",
    "def decile_group(data, pos):\n",
    "    '''\n",
    "    Entry point for question 1 of this exercise\n",
    "    '''\n",
    "    data = sorted(data)\n",
    "    tg = tile_group(data, 10)\n",
    "    return tg.get(list(tg)[pos-1])\n",
    "    \n",
    "\n",
    "def percentile_range(data, tile, start, stop):\n",
    "    '''\n",
    "    Entry point for question 2 of this exercise\n",
    "    '''\n",
    "    data = sorted(data)\n",
    "    tgroup = tile_group(data, tile)\n",
    "    if start > stop: \n",
    "        return\n",
    "    i = start\n",
    "    values = []\n",
    "    while i <= stop:\n",
    "        key = list(tgroup)[i]\n",
    "        values += tgroup.get(key)\n",
    "        i += 1\n",
    "    return values\n",
    "    \n",
    "    "
   ]
  },
  {
   "cell_type": "code",
   "execution_count": 218,
   "id": "e0c5be1e",
   "metadata": {},
   "outputs": [],
   "source": [
    "data = [43,47,30,25,15,51,17,21,37,33,44,56,40,49,22,36,44,33,17,35,58,51,35,44,40,31,41,55,50,16]"
   ]
  },
  {
   "cell_type": "markdown",
   "id": "de599225-55ea-49a4-816f-369bde05a6a5",
   "metadata": {},
   "source": [
    "# Ex140 Q5\n",
    "Determine the numbers in the 6th decile group and in the 81st to 90th percentile group for the set of numbers:\n",
    "[43,47,30,25,15,51,17,21,37,33,44,56,40,49,22,36,44,33,17,35,58,51,35,44,40,31,41,55,50,16]"
   ]
  },
  {
   "cell_type": "markdown",
   "id": "d5dbd834-6609-4cd8-9e0a-f894bc99fb27",
   "metadata": {},
   "source": [
    "## A)"
   ]
  },
  {
   "cell_type": "code",
   "execution_count": 221,
   "id": "c4dc2ad0",
   "metadata": {},
   "outputs": [
    {
     "data": {
      "text/plain": [
       "[40, 40, 41]"
      ]
     },
     "execution_count": 221,
     "metadata": {},
     "output_type": "execute_result"
    }
   ],
   "source": [
    "decile_group(data, 6)"
   ]
  },
  {
   "cell_type": "markdown",
   "id": "90dd5203-0730-448c-9d15-019b6b328258",
   "metadata": {},
   "source": [
    "## B)"
   ]
  },
  {
   "cell_type": "code",
   "execution_count": 224,
   "id": "7efd0c69",
   "metadata": {},
   "outputs": [
    {
     "data": {
      "text/plain": [
       "[50, 51, 51]"
      ]
     },
     "execution_count": 224,
     "metadata": {},
     "output_type": "execute_result"
    }
   ],
   "source": [
    "percentile_range(dat, 100, 81, 90)"
   ]
  },
  {
   "cell_type": "markdown",
   "id": "de5528bf-29dc-41db-9211-a229fd60eabd",
   "metadata": {},
   "source": [
    "All the functions above are utility pieces of code that were used to organise, structure and calculate the data provided."
   ]
  },
  {
   "cell_type": "code",
   "execution_count": null,
   "id": "b4ce30e6-d09b-400b-904e-7308dd579110",
   "metadata": {},
   "outputs": [],
   "source": []
  }
 ],
 "metadata": {
  "kernelspec": {
   "display_name": "Python 3 (ipykernel)",
   "language": "python",
   "name": "python3"
  },
  "language_info": {
   "codemirror_mode": {
    "name": "ipython",
    "version": 3
   },
   "file_extension": ".py",
   "mimetype": "text/x-python",
   "name": "python",
   "nbconvert_exporter": "python",
   "pygments_lexer": "ipython3",
   "version": "3.9.7"
  }
 },
 "nbformat": 4,
 "nbformat_minor": 5
}
