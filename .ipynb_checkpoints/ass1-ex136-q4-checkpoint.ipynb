{
 "cells": [
  {
   "cell_type": "code",
   "execution_count": 31,
   "id": "610cb127",
   "metadata": {},
   "outputs": [],
   "source": [
    "import pandas as pd\n",
    "import numpy as np\n",
    "import matplotlib.pyplot as plt\n",
    "import random as rd\n",
    "import math"
   ]
  },
  {
   "cell_type": "code",
   "execution_count": 141,
   "id": "2593a995",
   "metadata": {},
   "outputs": [],
   "source": [
    "data = [\n",
    "    28, 22, 23, 20, 12, 24, 37, 28, 21, 25,\n",
    "    21, 14, 30, 23, 27, 13, 23, 7, 26, 19, \n",
    "    24, 22, 26, 3, 21, 24, 28, 40, 27, 24,\n",
    "    20, 25, 23, 26, 47, 21, 29, 26, 22, 33,\n",
    "    27, 9, 13, 35, 20, 16, 20, 25, 18, 22\n",
    "]"
   ]
  },
  {
   "cell_type": "code",
   "execution_count": 164,
   "id": "dc53ceb2",
   "metadata": {},
   "outputs": [],
   "source": [
    "def frequency_distribution(data, nc):\n",
    "    data = sorted(data)\n",
    "    lr, hr = get_rounds(data)\n",
    "    grouped = [[i, [j for j in data if j >= i[0] and j<= i[1]]] for i in gen_classes(nc, lr, hr)]\n",
    "    classes = [k[0] for k in grouped]\n",
    "    freq = [len(k[1]) for k in grouped]\n",
    "    fq = [classes, freq]\n",
    "    return fq\n",
    "    \n",
    "def get_rounds(data):\n",
    "    data = sorted(data)\n",
    "    lowest_round = round(data[0], -1)\n",
    "    if lowest_round > data[0]:\n",
    "        lowest_round = lowest_round - 10\n",
    "    highest_round = round(data[-1], -1)\n",
    "    return (lowest_round, highest_round)\n",
    "\n",
    "\n",
    "def gen_classes(nc, lr, hr):\n",
    "    bounds = hr - lr\n",
    "    mid_r = math.floor(bounds/nc)\n",
    "    class_sizes = [0]\n",
    "    while sum(class_sizes) != 50:\n",
    "        class_sizes = [rd.randint(mid_r - 2, mid_r + 2) for i in range(nc)]\n",
    "    k = []\n",
    "    curr_ind = 0\n",
    "    next_ind = 0\n",
    "    for i in class_sizes:\n",
    "        next_ind = next_ind + i\n",
    "        k.append((curr_ind, next_ind))\n",
    "        curr_ind = next_ind + 1\n",
    "    return k\n",
    "    \n",
    "fq = frequency_distribution(data, 8)"
   ]
  },
  {
   "cell_type": "code",
   "execution_count": 165,
   "id": "7812a838",
   "metadata": {},
   "outputs": [
    {
     "data": {
      "text/html": [
       "<div>\n",
       "<style scoped>\n",
       "    .dataframe tbody tr th:only-of-type {\n",
       "        vertical-align: middle;\n",
       "    }\n",
       "\n",
       "    .dataframe tbody tr th {\n",
       "        vertical-align: top;\n",
       "    }\n",
       "\n",
       "    .dataframe thead th {\n",
       "        text-align: right;\n",
       "    }\n",
       "</style>\n",
       "<table border=\"1\" class=\"dataframe\">\n",
       "  <thead>\n",
       "    <tr style=\"text-align: right;\">\n",
       "      <th></th>\n",
       "      <th>0</th>\n",
       "      <th>1</th>\n",
       "      <th>2</th>\n",
       "      <th>3</th>\n",
       "      <th>4</th>\n",
       "      <th>5</th>\n",
       "      <th>6</th>\n",
       "      <th>7</th>\n",
       "    </tr>\n",
       "  </thead>\n",
       "  <tbody>\n",
       "    <tr>\n",
       "      <th>0</th>\n",
       "      <td>(0, 6)</td>\n",
       "      <td>(7, 11)</td>\n",
       "      <td>(12, 18)</td>\n",
       "      <td>(19, 26)</td>\n",
       "      <td>(27, 33)</td>\n",
       "      <td>(34, 40)</td>\n",
       "      <td>(41, 45)</td>\n",
       "      <td>(46, 50)</td>\n",
       "    </tr>\n",
       "    <tr>\n",
       "      <th>1</th>\n",
       "      <td>1</td>\n",
       "      <td>2</td>\n",
       "      <td>6</td>\n",
       "      <td>28</td>\n",
       "      <td>9</td>\n",
       "      <td>3</td>\n",
       "      <td>0</td>\n",
       "      <td>1</td>\n",
       "    </tr>\n",
       "  </tbody>\n",
       "</table>\n",
       "</div>"
      ],
      "text/plain": [
       "        0        1         2         3         4         5         6         7\n",
       "0  (0, 6)  (7, 11)  (12, 18)  (19, 26)  (27, 33)  (34, 40)  (41, 45)  (46, 50)\n",
       "1       1        2         6        28         9         3         0         1"
      ]
     },
     "execution_count": 165,
     "metadata": {},
     "output_type": "execute_result"
    }
   ],
   "source": [
    "pd.DataFrame(fq)"
   ]
  },
  {
   "cell_type": "code",
   "execution_count": null,
   "id": "e1a63986",
   "metadata": {},
   "outputs": [],
   "source": []
  }
 ],
 "metadata": {
  "kernelspec": {
   "display_name": "Python 3",
   "language": "python",
   "name": "python3"
  },
  "language_info": {
   "codemirror_mode": {
    "name": "ipython",
    "version": 3
   },
   "file_extension": ".py",
   "mimetype": "text/x-python",
   "name": "python",
   "nbconvert_exporter": "python",
   "pygments_lexer": "ipython3",
   "version": "3.9.2"
  }
 },
 "nbformat": 4,
 "nbformat_minor": 5
}
