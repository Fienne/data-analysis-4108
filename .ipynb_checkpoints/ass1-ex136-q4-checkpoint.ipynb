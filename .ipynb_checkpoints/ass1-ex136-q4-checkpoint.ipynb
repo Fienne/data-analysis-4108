{
 "cells": [
  {
   "cell_type": "code",
   "execution_count": 1,
   "id": "bd6a17c1",
   "metadata": {},
   "outputs": [],
   "source": [
    "import pandas as pd\n",
    "import numpy as np\n",
    "import random as rd\n",
    "import math"
   ]
  },
  {
   "cell_type": "code",
   "execution_count": 2,
   "id": "533b228d",
   "metadata": {},
   "outputs": [],
   "source": [
    "data = [\n",
    "    28, 22, 23, 20, 12, 24, 37, 28, 21, 25,\n",
    "    21, 14, 30, 23, 27, 13, 23, 7, 26, 19, \n",
    "    24, 22, 26, 3, 21, 24, 28, 40, 27, 24,\n",
    "    20, 25, 23, 26, 47, 21, 29, 26, 22, 33,\n",
    "    27, 9, 13, 35, 20, 16, 20, 25, 18, 22\n",
    "]"
   ]
  },
  {
   "cell_type": "code",
   "execution_count": 55,
   "id": "a2268aa0",
   "metadata": {},
   "outputs": [
    {
     "name": "stdout",
     "output_type": "stream",
     "text": [
      "[6, 7, 5, 7, 5, 6, 6, 8]\n"
     ]
    },
    {
     "data": {
      "text/html": [
       "<div>\n",
       "<style scoped>\n",
       "    .dataframe tbody tr th:only-of-type {\n",
       "        vertical-align: middle;\n",
       "    }\n",
       "\n",
       "    .dataframe tbody tr th {\n",
       "        vertical-align: top;\n",
       "    }\n",
       "\n",
       "    .dataframe thead th {\n",
       "        text-align: right;\n",
       "    }\n",
       "</style>\n",
       "<table border=\"1\" class=\"dataframe\">\n",
       "  <thead>\n",
       "    <tr style=\"text-align: right;\">\n",
       "      <th></th>\n",
       "      <th>Classes</th>\n",
       "      <th>Frequency</th>\n",
       "      <th>Values</th>\n",
       "    </tr>\n",
       "  </thead>\n",
       "  <tbody>\n",
       "    <tr>\n",
       "      <th>0</th>\n",
       "      <td>(0, 6)</td>\n",
       "      <td>1</td>\n",
       "      <td>[3]</td>\n",
       "    </tr>\n",
       "    <tr>\n",
       "      <th>1</th>\n",
       "      <td>(7, 13)</td>\n",
       "      <td>5</td>\n",
       "      <td>[7, 9, 12, 13, 13]</td>\n",
       "    </tr>\n",
       "    <tr>\n",
       "      <th>2</th>\n",
       "      <td>(14, 18)</td>\n",
       "      <td>3</td>\n",
       "      <td>[14, 16, 18]</td>\n",
       "    </tr>\n",
       "    <tr>\n",
       "      <th>3</th>\n",
       "      <td>(19, 25)</td>\n",
       "      <td>24</td>\n",
       "      <td>[19, 20, 20, 20, 20, 21, 21, 21, 21, 22, 22, 2...</td>\n",
       "    </tr>\n",
       "    <tr>\n",
       "      <th>4</th>\n",
       "      <td>(26, 30)</td>\n",
       "      <td>12</td>\n",
       "      <td>[26, 26, 26, 26, 27, 27, 27, 28, 28, 28, 29, 30]</td>\n",
       "    </tr>\n",
       "    <tr>\n",
       "      <th>5</th>\n",
       "      <td>(31, 36)</td>\n",
       "      <td>2</td>\n",
       "      <td>[33, 35]</td>\n",
       "    </tr>\n",
       "    <tr>\n",
       "      <th>6</th>\n",
       "      <td>(37, 42)</td>\n",
       "      <td>2</td>\n",
       "      <td>[37, 40]</td>\n",
       "    </tr>\n",
       "    <tr>\n",
       "      <th>7</th>\n",
       "      <td>(43, 50)</td>\n",
       "      <td>1</td>\n",
       "      <td>[47]</td>\n",
       "    </tr>\n",
       "  </tbody>\n",
       "</table>\n",
       "</div>"
      ],
      "text/plain": [
       "    Classes  Frequency                                             Values\n",
       "0    (0, 6)          1                                                [3]\n",
       "1   (7, 13)          5                                 [7, 9, 12, 13, 13]\n",
       "2  (14, 18)          3                                       [14, 16, 18]\n",
       "3  (19, 25)         24  [19, 20, 20, 20, 20, 21, 21, 21, 21, 22, 22, 2...\n",
       "4  (26, 30)         12   [26, 26, 26, 26, 27, 27, 27, 28, 28, 28, 29, 30]\n",
       "5  (31, 36)          2                                           [33, 35]\n",
       "6  (37, 42)          2                                           [37, 40]\n",
       "7  (43, 50)          1                                               [47]"
      ]
     },
     "execution_count": 55,
     "metadata": {},
     "output_type": "execute_result"
    }
   ],
   "source": [
    "def frequency_distribution(data, nc):\n",
    "    '''\n",
    "    data: the dataset of which we wish to get the frequency distribution of\n",
    "    nc: number of classes for which we require for the groups\n",
    "    '''\n",
    "    data = sorted(data) # sort the data first\n",
    "    lr, hr = get_rounds(data) # get the bounds of the data from lowest to highest\n",
    "    \n",
    "    # gen_classes(nc, lr, hr): to get a list of tuples which are the classes\n",
    "    # this list-comp generates a dictionary with key as the class and following as the members\n",
    "    #grouped = [[i, [j for j in data if j >= i[0] and j<= i[1]]] for i in gen_classes(nc, lr, hr)]\n",
    "    grouped = {i: [j for j in data if j >= i[0] and j <= i[1]] for i in gen_classes(nc, lr, hr)}\n",
    "    \n",
    "    # extract the list from each attr-value and assign a new dict to contain fq\n",
    "    freq_dist = {i: len(grouped.get(i)) for i in grouped}          \n",
    "    return [grouped, freq_dist]\n",
    "    \n",
    "def get_rounds(data):\n",
    "    '''\n",
    "    get_rounds: get the nearest ten less than the lowest value in the sample,\n",
    "    get_rounds: get the nearest ten greater than the lowersr\n",
    "    '''\n",
    "    data = sorted(data)\n",
    "    lowest_round = round(data[0], -1)\n",
    "    if lowest_round > data[0]:\n",
    "        lowest_round = lowest_round - 10\n",
    "    highest_round = round(data[-1], -1)\n",
    "    return (lowest_round, highest_round)\n",
    "\n",
    "\n",
    "def gen_classes(nc, lr, hr):\n",
    "    '''\n",
    "    lr -> lower round\n",
    "    hr -> higher round\n",
    "    nc -> number of classes\n",
    "    \n",
    "    gen_classes: Gotten the lr, hr and nc.\n",
    "    gen classes: hr and lr will be used to get the bounds\n",
    "    bounds is divided by nc to get the mid randint\n",
    "    '''\n",
    "    bounds = hr - lr\n",
    "    mid_r = math.floor(bounds/nc)\n",
    "    class_sizes = [0]\n",
    "    \n",
    "    # class sizes could be generated in such a way that sum of all must be 50\n",
    "    while sum(class_sizes) != 50 and not all(i < 0 for i in class_sizes):\n",
    "        class_sizes = [rd.randint(mid_r - 2, mid_r + 2) for i in range(nc)]\n",
    "        \n",
    "    # initialise the classes as empty\n",
    "    classes = []\n",
    "    curr_ind = 0\n",
    "    next_ind = 0\n",
    "    for i in class_sizes:\n",
    "        next_ind = next_ind + i\n",
    "        classes.append((curr_ind, next_ind))\n",
    "        curr_ind = next_ind + 1\n",
    "    print(class_sizes)\n",
    "    return classes\n",
    "    \n",
    "def print_dist(fq):\n",
    "    data = {'Classes': list(fq[1].keys()), 'Frequency': list(fq[1].values()), 'Values': list(fq[0].values())}\n",
    "    dist_df = pd.DataFrame(data)\n",
    "    return dist_df\n",
    "    \n",
    "\n",
    "fq = frequency_distribution(data, 8)\n",
    "print_dist(fq)"
   ]
  },
  {
   "cell_type": "code",
   "execution_count": 39,
   "id": "10d5e1b2",
   "metadata": {},
   "outputs": [
    {
     "data": {
      "text/plain": [
       "[(0, 5), (6, 9), (10, 17), (18, 22), (23, 30), (31, 37), (38, 45), (46, 50)]"
      ]
     },
     "execution_count": 39,
     "metadata": {},
     "output_type": "execute_result"
    }
   ],
   "source": []
  },
  {
   "cell_type": "code",
   "execution_count": 33,
   "id": "9e65842f-ae0a-4f92-88a9-e41b0692be03",
   "metadata": {},
   "outputs": [
    {
     "data": {
      "text/plain": [
       "'(0, 4)'"
      ]
     },
     "execution_count": 33,
     "metadata": {},
     "output_type": "execute_result"
    }
   ],
   "source": []
  },
  {
   "cell_type": "code",
   "execution_count": null,
   "id": "c086887f-2a2e-46da-81d0-d4bad927b741",
   "metadata": {},
   "outputs": [],
   "source": []
  }
 ],
 "metadata": {
  "kernelspec": {
   "display_name": "Python 3 (ipykernel)",
   "language": "python",
   "name": "python3"
  },
  "language_info": {
   "codemirror_mode": {
    "name": "ipython",
    "version": 3
   },
   "file_extension": ".py",
   "mimetype": "text/x-python",
   "name": "python",
   "nbconvert_exporter": "python",
   "pygments_lexer": "ipython3",
   "version": "3.9.7"
  }
 },
 "nbformat": 4,
 "nbformat_minor": 5
}
